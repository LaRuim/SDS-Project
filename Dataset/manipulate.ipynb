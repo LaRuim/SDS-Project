{
 "metadata": {
  "language_info": {
   "codemirror_mode": {
    "name": "ipython",
    "version": 3
   },
   "file_extension": ".py",
   "mimetype": "text/x-python",
   "name": "python",
   "nbconvert_exporter": "python",
   "pygments_lexer": "ipython3",
   "version": "3.8.5-final"
  },
  "orig_nbformat": 2,
  "kernelspec": {
   "name": "Python 3.8.5 64-bit",
   "display_name": "Python 3.8.5 64-bit",
   "metadata": {
    "interpreter": {
     "hash": "545a4bbb7d2123bd7fffee3c152dae1d04a65b9680802701a0c932f25d0742a0"
    }
   }
  }
 },
 "nbformat": 4,
 "nbformat_minor": 2,
 "cells": [
  {
   "cell_type": "code",
   "execution_count": 1,
   "metadata": {},
   "outputs": [],
   "source": [
    "import pandas as pd"
   ]
  },
  {
   "cell_type": "code",
   "execution_count": 2,
   "metadata": {},
   "outputs": [],
   "source": [
    "filename = \"players_20.csv\"\n",
    "df = pd.read_csv(filename, encoding='cp1252')"
   ]
  },
  {
   "cell_type": "code",
   "execution_count": 3,
   "metadata": {},
   "outputs": [],
   "source": [
    "goal_keepers = df.loc[df['team_position'] == 'GK']\n",
    "centre_backs = df.loc[df['team_position'].isin(['LCB', 'RCB', 'SW', 'CB'])]\n",
    "strikers = df.loc[df['team_position'].isin(['ST', 'RS', 'LS', 'CF', 'LF', 'RF'])]\n",
    "wingers = df.loc[df['team_position'].isin(['LW', 'LM', 'RW', 'RM'])]\n",
    "mid_fielders = df.loc[df['team_position'].isin(['CDM', 'RDM', 'LDM', 'CM', 'RCM', 'LCM'])]\n",
    "free_roamers = df.loc[df['team_position'].isin(['RAM', 'LAM', 'CAM'])]\n"
   ]
  },
  {
   "cell_type": "code",
   "execution_count": 4,
   "metadata": {},
   "outputs": [],
   "source": [
    "goal_keepers_CSV = goal_keepers.to_csv(\"goal_keepers.csv\", index = True)\n",
    "centre_backs_CSV = centre_backs.to_csv(\"centre_backs.csv\", index = True)\n",
    "strikers_CSV = strikers.to_csv(\"strikers.csv\", index = True)\n",
    "wingers_CSV = wingers.to_csv(\"wingers.csv\", index = True)\n",
    "mid_fielders_CSV = mid_fielders.to_csv(\"mid_fielders.csv\", index = True)\n",
    "free_roamers_CSV = free_roamers.to_csv(\"free_roamers.csv\", index = True)\n",
    "\n"
   ]
  }
 ]
}