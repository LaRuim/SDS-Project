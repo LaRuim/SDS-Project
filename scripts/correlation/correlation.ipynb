{
  "nbformat": 4,
  "nbformat_minor": 0,
  "metadata": {
    "colab": {
      "name": "PopulationAnalysis.ipynb",
      "provenance": [],
      "collapsed_sections": []
    },
    "kernelspec": {
      "name": "python3",
      "display_name": "Python 3"
    }
  },
  "cells": [
    {
      "cell_type": "code",
      "metadata": {
        "id": "AzcAty3kn0kb"
      },
      "source": [
        "import pandas as pd\n",
        "import matplotlib.pyplot as plt\n",
        "from statistics import mean"
      ],
      "execution_count": null,
      "outputs": []
    },
    {
      "cell_type": "code",
      "metadata": {
        "id": "p24Ty6rH4vt0"
      },
      "source": [
        "df = pd.read_csv(\"../../datasets/Full/players_20.csv\", encoding=\"cp1252\")"
      ],
      "execution_count": null,
      "outputs": []
    },
    {
      "cell_type": "code",
      "metadata": {
        "id": "gXy0NCS_IWHq"
      },
      "source": [
        "df=df.dropna()"
      ],
      "execution_count": null,
      "outputs": []
    },
    {
      "cell_type": "code",
      "metadata": {
        "id": "kIMrg_wTiGWH"
      },
      "source": [
        "def bestFitLine(xs, ys):\n",
        "    m = (((mean(xs)*mean(ys)) - mean(xs*ys)) /\n",
        "         ((mean(xs)*mean(xs)) - mean(xs*xs)))\n",
        "    \n",
        "    b = mean(ys) - m*mean(xs)\n",
        "    \n",
        "    regression_line = []\n",
        "    for x in xs:\n",
        "        regression_line.append((m*x)+b)\n",
        "    return regression_line"
      ],
      "execution_count": null,
      "outputs": []
    },
    {
      "cell_type": "code",
      "metadata": {
        "id": "1NHjO44fSCiX"
      },
      "source": [
        "fig, ax = plt.subplots(figsize = (10, 5))\n",
        "\n",
        "\n",
        "x = df[df['team_position'] == 'ST']['shooting']\n",
        "y = df[df['team_position'] == 'ST']['overall']\n",
        "\n",
        "plt.scatter(x, y) \n",
        "plt.plot(x, bestFitLine(x, y), color = 'red')\n",
        "plt.xlabel('Shooting')\n",
        "plt.ylabel('Overall')\n",
        "plt.title('Shooting vs Overall')\n",
        "plt.show()"
      ],
      "execution_count": null,
      "outputs": []
    },
    {
      "cell_type": "code",
      "metadata": {
        "id": "g9_Vgk2WkTAP"
      },
      "source": [
        "fig, ax = plt.subplots(figsize = (10, 5))\n",
        "\n",
        "\n",
        "x = df[df['team_position'] == 'SUB']['weight_kg']\n",
        "y = df[df['team_position'] == 'SUB']['age']\n",
        "\n",
        "plt.scatter(x, y) \n",
        "plt.plot(x, bestFitLine(x, y), color = 'red')\n",
        "plt.xlabel('Weight')\n",
        "plt.ylabel('Age')\n",
        "plt.title('Age vs Weight')\n",
        "plt.show()"
      ],
      "execution_count": null,
      "outputs": []
    },
    {
      "cell_type": "markdown",
      "metadata": {
        "id": "hgFMY2NQqsYD"
      },
      "source": [
        "**Try finding a negative correlation**"
      ]
    }
  ]
}